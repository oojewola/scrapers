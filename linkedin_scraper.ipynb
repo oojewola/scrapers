
This scraper focuses on the feeds section of the page supplied and gathers user enegagement data by focuing on profiles who liked a particular post.
Info Scraped:
1). Name
2). Linkedin Profile link
3). Professional eadline/ Role 
4). Count ( Count of user interactions)


All Necessary imports

from selenium import webdriver
from selenium.webdriver.common.keys import Keys
from selenium.webdriver.common.by import By
from selenium.webdriver.support.ui import WebDriverWait
from selenium.webdriver.support import expected_conditions as EC
from selenium.webdriver.common.action_chains import ActionChains
import re as re
import time
import pandas as pd
from selenium.common.exceptions import NoSuchElementException
Provide the feeds page of the institution that needs to be scraped

inst="https://www.linkedin.com/school/kelley-school-of-business/posts/?feedView=all"
output_file = "kelley_ds.csv"
The login function takes in the users credentials and logs into linkedin.

def login(driver, email=None, password=None, timeout=10):
    driver.get("https://www.linkedin.com/login")
    WebDriverWait(driver, timeout).until(EC.presence_of_element_located((By.ID, "username"))).send_keys(email)
    WebDriverWait(driver, timeout).until(EC.presence_of_element_located((By.ID, "password"))).send_keys(password + Keys.RETURN)
    
    if driver.current_url == 'https://www.linkedin.com/checkpoint/lg/login-submit':
        remember_prompt = WebDriverWait(driver, timeout).until(EC.presence_of_element_located((By.ID, 'remember-me-prompt__form-primary')))
        remember_prompt.submit()

    WebDriverWait(driver, timeout).until(EC.presence_of_element_located((By.CLASS_NAME, "global-nav__primary-link")))
Pass in credentials and driver

driver = webdriver.Chrome()
email = "xx@gmail.com"
password = "xxxx"
login(driver, email, password)
Go to feeds page of the institution provided

driver.get(inst)
wait = WebDriverWait(driver, 10)
wait.until(EC.element_to_be_clickable((By.CLASS_NAME, "social-details-social-counts__reactions-count")))
<selenium.webdriver.remote.webelement.WebElement (session="d6893b86bdd0ed1d4f58b960fe6ca650", element="39B640B9B9C92219C9C7F90AA563BE28_element_115")>
Scroll through the page and collect like buttons.. the number of times the browser scrolls is determined by "max_scroll_count" variable.

max_scroll_count=2
scroll_count=0
while True:
        try:
            show_more_button = wait.until(EC.element_to_be_clickable((By.CSS_SELECTOR, ".scaffold-finite-scroll__load-button .artdeco-button__text")))
            actions = ActionChains(driver)
            actions.move_to_element(show_more_button).perform()
            scroll_count+=1
            time.sleep(10)  # this is essential as the page at times takes time to load
            if scroll_count>=max_scroll_count:
                break
        except Exception as e:
            print("No more results to show or encountered an error:", e)
            break  
# Find all like buttons
like_buttons = driver.find_elements(By.CLASS_NAME, "social-details-social-counts__reactions-count")
Main scraper logic

data_collected=[]
for button in like_buttons:
    driver.execute_script("arguments[0].scrollIntoView();", button)
    driver.execute_script("window.scrollBy(0, -150);") # Scroll & Adjust .. seems needed to adjust focus

    
    button.click() #open modal
    wait.until(EC.visibility_of_element_located((By.ID, "artdeco-modal-outlet")))

    while True:
        try:
            show_more_button = wait.until(EC.element_to_be_clickable((By.CSS_SELECTOR, ".scaffold-finite-scroll__load-button .artdeco-button__text")))
            actions = ActionChains(driver)
            actions.move_to_element(show_more_button).perform()
            time.sleep(4)  # this is essential as the page at times takes time to load
        except Exception as e:
            print("No more results to show or encountered an error:", e)
            break  

    #Extract names, LinkedIn profile links and Roles... just named the third column roles as it seems to be a summary or headline
    profiles = driver.find_elements(By.CLASS_NAME, "social-details-reactors-tab-body-list-item")
    for profile in profiles:
        try:
            name_element = profile.find_element(By.CSS_SELECTOR, "span[dir='ltr']")
            name = name_element.text if name_element else "Name not found"
        except NoSuchElementException:
            name = "Name not found"
            continue
        link = profile.find_element(By.CSS_SELECTOR, "a").get_attribute('href')
        # Extracting the role or professional headline
        role_element = profile.find_element(By.CSS_SELECTOR, ".artdeco-entity-lockup__caption")
        role = role_element.text
        row={"Name":name,"Link":link,"Role":role}
        data_collected.append(row)

    # Close the modal before proceeding to the next like button
    close_button = wait.until(EC.element_to_be_clickable((By.CSS_SELECTOR, ".artdeco-modal__dismiss")))
    close_button.click()

    # Wait for the modal to close
    wait.until(EC.invisibility_of_element_located((By.ID, "artdeco-modal-outlet")))
No more results to show or encountered an error: Message: 

No more results to show or encountered an error: Message: 

No more results to show or encountered an error: Message: 

No more results to show or encountered an error: Message: 

No more results to show or encountered an error: Message: 

No more results to show or encountered an error: Message: 

No more results to show or encountered an error: Message: 

No more results to show or encountered an error: Message: 

No more results to show or encountered an error: Message: 

No more results to show or encountered an error: Message: 

No more results to show or encountered an error: Message: 

No more results to show or encountered an error: Message: 

No more results to show or encountered an error: Message: 

No more results to show or encountered an error: Message: 

No more results to show or encountered an error: Message: 

No more results to show or encountered an error: Message: 

Creates a dataframe out of the data collected

df=pd.DataFrame(data_collected)
df.head(20)
Name	Link	Role
0	Ariel I.	https://www.linkedin.com/in/ACoAAAD0iCEB6yc0pC...	Marketing Controller Professional (FP&A) at Ba...
1	Adeniyi Oduguwa	https://www.linkedin.com/in/ACoAABn6EPABQ6ne6-...	Empowering Innovative Solutions Through Custom...
2	Thomas Trochanowski	https://www.linkedin.com/in/ACoAAAA6hqwBtSxMR0...	Partner at KPMG US, Southeast BU Technology As...
3	Lorie Gironda	https://www.linkedin.com/in/ACoAAAMazo8BZnP2BM...	Senior IT Recruiter @ V-Soft Consulting | WBE-...
4	Marty Pieratt	https://www.linkedin.com/in/ACoAAAGsRcEBHcSV6g...	Faculty Lecturer Indiana University Kelley Sch...
5	Sophia Gorecki	https://www.linkedin.com/in/ACoAADEjZXkBpWYFVZ...	Kelley School of Business | Marketing & Mercha...
6	Eric Sader, JD, MSW, LSW	https://www.linkedin.com/in/ACoAAAM37GsBBopTAe...	Educator & Advocate
7	Kimberly Good, MBA, CPCC, NBCC	https://www.linkedin.com/in/ACoAAAKcqe0BiWCpRZ...	Executive Coach • Leadership Development • Tal...
8	Quinn H. Slattery	https://www.linkedin.com/in/ACoAAC_qOTsBi6m4qM...	Student at IU Kelley School of Business | Delo...
9	Forrest Gray	https://www.linkedin.com/in/ACoAAA2XFqcBc-t4xD...	Looking in Tallahassee area
10	Md. Tanvir Ahsan	https://www.linkedin.com/in/ACoAAC56bZIBwdR8jl...	Analyst | Risk and Compliance | Data Analytics...
11	Sanya Goyal	https://www.linkedin.com/in/ACoAADDwbmEB2BTisw...	Student @Kelley School Of Business | Finance a...
12	Nicholas Kozakis	https://www.linkedin.com/in/ACoAAEEdEhMBKPl2rs...	Lynnfield High School Student | Pursuing a Car...
13	Rishikha Setty	https://www.linkedin.com/in/ACoAADEtVHkBATm5Oe...	Aspiring Student at the Kelley School of Busin...
14	Eknoor Sethi	https://www.linkedin.com/in/ACoAADS3ln4BWj2nT3...	Senior at the Kelley School | Writer | Lead wi...
15	Maximo Pisaneschi	https://www.linkedin.com/in/ACoAAD70kAEBiOSPIi...	IU 2026, Kelley School of Business/ O’Neil Sch...
16	Bryon Baxter, MBA	https://www.linkedin.com/in/ACoAAABWijgBOx95GR...	Senior Financial Analyst at Amazon
17	Ravikiran REDDY	https://www.linkedin.com/in/ACoAABK5JioBFx3iAw...	PMP, ITIL, CSM, Cloud Certified - Sr. Engageme...
18	Eshan Patel	https://www.linkedin.com/in/ACoAADD7R6kBAduvqU...	Dean's Council Scholar/HHSP Scholar at the Kel...
19	Matthew B. Murphy III	https://www.linkedin.com/in/ACoAAADElxEBECy97A...	Co-Founder & President at Emboss Partners, LLC
Deduplicating using linkedin link while keeping the first occurrence of each 'link'
df_deduped = df.drop_duplicates('Link').reset_index(drop=True)
df_deduped['count'] = df.groupby('Link').size().values
Name     1723
Link     1723
Role     1723
count    1723
dtype: int64
Sort the profiles based on engagement count
df_deduped.sort_values('count', ascending=False, inplace=True)
df_deduped.count()
Write to csv

df_deduped.to_csv("data/"+output_file, index=False, encoding='utf-8')
